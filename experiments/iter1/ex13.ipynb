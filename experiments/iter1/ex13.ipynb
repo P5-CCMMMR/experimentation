{
 "cells": [
  {
   "cell_type": "code",
   "execution_count": 1,
   "id": "c9249ed6",
   "metadata": {},
   "outputs": [
    {
     "name": "stderr",
     "output_type": "stream",
     "text": [
      "Seed set to 1337\n"
     ]
    }
   ],
   "source": [
    "import sys\n",
    "import os\n",
    "sys.path.insert(0, os.path.abspath('../..'))\n",
    "from experiments.iter1.util.importer_LSTM import *\n",
    "GRAPH_PATH = 'graph_saves/ex13_graphs/'\n",
    "MODEL_PATH = 'model_saves/ex13_model'\n",
    "nist_path = \"../../src/data_preprocess/dataset/NIST_cleaned.csv\""
   ]
  },
  {
   "cell_type": "code",
   "execution_count": null,
   "id": "1230e463",
   "metadata": {},
   "outputs": [
    {
     "name": "stderr",
     "output_type": "stream",
     "text": [
      "GPU available: True (cuda), used: True\n",
      "TPU available: False, using: 0 TPU cores\n",
      "HPU available: False, using: 0 HPUs\n",
      "Trainer already configured with model summary callbacks: [<class 'lightning.pytorch.callbacks.model_summary.ModelSummary'>]. Skipping setting a default `ModelSummary` callback.\n",
      "GPU available: True (cuda), used: True\n",
      "TPU available: False, using: 0 TPU cores\n",
      "HPU available: False, using: 0 HPUs\n",
      "Trainer already configured with model summary callbacks: [<class 'lightning.pytorch.callbacks.model_summary.ModelSummary'>]. Skipping setting a default `ModelSummary` callback.\n",
      "GPU available: True (cuda), used: True\n",
      "TPU available: False, using: 0 TPU cores\n",
      "HPU available: False, using: 0 HPUs\n",
      "Trainer already configured with model summary callbacks: [<class 'lightning.pytorch.callbacks.model_summary.ModelSummary'>]. Skipping setting a default `ModelSummary` callback.\n",
      "GPU available: True (cuda), used: True\n",
      "TPU available: False, using: 0 TPU cores\n",
      "HPU available: False, using: 0 HPUs\n",
      "Trainer already configured with model summary callbacks: [<class 'lightning.pytorch.callbacks.model_summary.ModelSummary'>]. Skipping setting a default `ModelSummary` callback.\n",
      "GPU available: True (cuda), used: True\n",
      "TPU available: False, using: 0 TPU cores\n",
      "HPU available: False, using: 0 HPUs\n",
      "Trainer already configured with model summary callbacks: [<class 'lightning.pytorch.callbacks.model_summary.ModelSummary'>]. Skipping setting a default `ModelSummary` callback.\n",
      "GPU available: True (cuda), used: True\n",
      "TPU available: False, using: 0 TPU cores\n",
      "HPU available: False, using: 0 HPUs\n",
      "You are using a CUDA device ('NVIDIA GeForce RTX 4070') that has Tensor Cores. To properly utilize them, you should set `torch.set_float32_matmul_precision('medium' | 'high')` which will trade-off precision for performance. For more details, read https://pytorch.org/docs/stable/generated/torch.set_float32_matmul_precision.html#torch.set_float32_matmul_precision\n",
      "You are using a CUDA device ('NVIDIA GeForce RTX 4070') that has Tensor Cores. To properly utilize them, you should set `torch.set_float32_matmul_precision('medium' | 'high')` which will trade-off precision for performance. For more details, read https://pytorch.org/docs/stable/generated/torch.set_float32_matmul_precision.html#torch.set_float32_matmul_precision\n",
      "You are using a CUDA device ('NVIDIA GeForce RTX 4070') that has Tensor Cores. To properly utilize them, you should set `torch.set_float32_matmul_precision('medium' | 'high')` which will trade-off precision for performance. For more details, read https://pytorch.org/docs/stable/generated/torch.set_float32_matmul_precision.html#torch.set_float32_matmul_precision\n",
      "You are using a CUDA device ('NVIDIA GeForce RTX 4070') that has Tensor Cores. To properly utilize them, you should set `torch.set_float32_matmul_precision('medium' | 'high')` which will trade-off precision for performance. For more details, read https://pytorch.org/docs/stable/generated/torch.set_float32_matmul_precision.html#torch.set_float32_matmul_precision\n",
      "You are using a CUDA device ('NVIDIA GeForce RTX 4070') that has Tensor Cores. To properly utilize them, you should set `torch.set_float32_matmul_precision('medium' | 'high')` which will trade-off precision for performance. For more details, read https://pytorch.org/docs/stable/generated/torch.set_float32_matmul_precision.html#torch.set_float32_matmul_precision\n",
      "LOCAL_RANK: 0 - CUDA_VISIBLE_DEVICES: [0]\n",
      "LOCAL_RANK: 0 - CUDA_VISIBLE_DEVICES: [0]\n",
      "LOCAL_RANK: 0 - CUDA_VISIBLE_DEVICES: [0]\n",
      "LOCAL_RANK: 0 - CUDA_VISIBLE_DEVICES: [0]\n",
      "LOCAL_RANK: 0 - CUDA_VISIBLE_DEVICES: [0]\n"
     ]
    },
    {
     "data": {
      "application/vnd.jupyter.widget-view+json": {
       "model_id": "4d548ce458444d138280b5eca14757b1",
       "version_major": 2,
       "version_minor": 0
      },
      "text/plain": [
       "Finding best initial lr:   0%|          | 0/100 [00:00<?, ?it/s]"
      ]
     },
     "metadata": {},
     "output_type": "display_data"
    },
    {
     "data": {
      "application/vnd.jupyter.widget-view+json": {
       "model_id": "1a5e3a36b5b24384b6ed8436a98fca49",
       "version_major": 2,
       "version_minor": 0
      },
      "text/plain": [
       "Finding best initial lr:   0%|          | 0/100 [00:00<?, ?it/s]"
      ]
     },
     "metadata": {},
     "output_type": "display_data"
    },
    {
     "data": {
      "application/vnd.jupyter.widget-view+json": {
       "model_id": "84956af9b0154bdcbb0e99915e9963cd",
       "version_major": 2,
       "version_minor": 0
      },
      "text/plain": [
       "Finding best initial lr:   0%|          | 0/100 [00:00<?, ?it/s]"
      ]
     },
     "metadata": {},
     "output_type": "display_data"
    },
    {
     "data": {
      "application/vnd.jupyter.widget-view+json": {
       "model_id": "330c5856009c479eafad1ab533fbfd9b",
       "version_major": 2,
       "version_minor": 0
      },
      "text/plain": [
       "Finding best initial lr:   0%|          | 0/100 [00:00<?, ?it/s]"
      ]
     },
     "metadata": {},
     "output_type": "display_data"
    },
    {
     "data": {
      "application/vnd.jupyter.widget-view+json": {
       "model_id": "10a0345ce67a4c4b80d0b06131052a77",
       "version_major": 2,
       "version_minor": 0
      },
      "text/plain": [
       "Finding best initial lr:   0%|          | 0/100 [00:00<?, ?it/s]"
      ]
     },
     "metadata": {},
     "output_type": "display_data"
    },
    {
     "name": "stderr",
     "output_type": "stream",
     "text": [
      "`Trainer.fit` stopped: `max_steps=100` reached.\n",
      "Learning rate set to 0.002754228703338169\n",
      "Restoring states from the checkpoint path at /home/scoop/experimentation/experiments/iter1/.lr_find_af79556b-ecb7-4184-8c23-cfbc20421bfe.ckpt\n",
      "Restored all states from the checkpoint at /home/scoop/experimentation/experiments/iter1/.lr_find_af79556b-ecb7-4184-8c23-cfbc20421bfe.ckpt\n",
      "`Trainer.fit` stopped: `max_steps=100` reached.\n",
      "`Trainer.fit` stopped: `max_steps=100` reached.\n",
      "Learning rate set to 1.445439770745928e-06\n",
      "Restoring states from the checkpoint path at /home/scoop/experimentation/experiments/iter1/.lr_find_286909af-633a-4ac4-a54a-1da522b43389.ckpt\n",
      "Learning rate set to 1.445439770745928e-06\n",
      "Restoring states from the checkpoint path at /home/scoop/experimentation/experiments/iter1/.lr_find_4163a584-3d98-4c1d-bc8f-3182f1a855a0.ckpt\n",
      "Restored all states from the checkpoint at /home/scoop/experimentation/experiments/iter1/.lr_find_286909af-633a-4ac4-a54a-1da522b43389.ckpt\n",
      "Restored all states from the checkpoint at /home/scoop/experimentation/experiments/iter1/.lr_find_4163a584-3d98-4c1d-bc8f-3182f1a855a0.ckpt\n",
      "`Trainer.fit` stopped: `max_steps=100` reached.\n",
      "Learning rate set to 0.0022908676527677745\n",
      "Restoring states from the checkpoint path at /home/scoop/experimentation/experiments/iter1/.lr_find_9833416d-c25d-4f2a-ab5f-2dfceea3b787.ckpt\n",
      "`Trainer.fit` stopped: `max_steps=100` reached.\n",
      "Learning rate set to 0.0022908676527677745\n",
      "Restoring states from the checkpoint path at /home/scoop/experimentation/experiments/iter1/.lr_find_234c598e-9a71-45a1-9556-d481636566ff.ckpt\n",
      "Restored all states from the checkpoint at /home/scoop/experimentation/experiments/iter1/.lr_find_9833416d-c25d-4f2a-ab5f-2dfceea3b787.ckpt\n",
      "Restored all states from the checkpoint at /home/scoop/experimentation/experiments/iter1/.lr_find_234c598e-9a71-45a1-9556-d481636566ff.ckpt\n",
      "LOCAL_RANK: 0 - CUDA_VISIBLE_DEVICES: [0]\n",
      "LOCAL_RANK: 0 - CUDA_VISIBLE_DEVICES: [0]\n",
      "LOCAL_RANK: 0 - CUDA_VISIBLE_DEVICES: [0]\n",
      "LOCAL_RANK: 0 - CUDA_VISIBLE_DEVICES: [0]\n",
      "LOCAL_RANK: 0 - CUDA_VISIBLE_DEVICES: [0]\n",
      "`Trainer.fit` stopped: `max_steps=3` reached.\n",
      "Batch size 2 succeeded, trying batch size 4\n",
      "`Trainer.fit` stopped: `max_steps=3` reached.\n",
      "`Trainer.fit` stopped: `max_steps=3` reached.\n",
      "Batch size 2 succeeded, trying batch size 4\n",
      "Batch size 2 succeeded, trying batch size 4\n",
      "`Trainer.fit` stopped: `max_steps=3` reached.\n",
      "Batch size 2 succeeded, trying batch size 4\n",
      "`Trainer.fit` stopped: `max_steps=3` reached.\n",
      "Batch size 2 succeeded, trying batch size 4\n",
      "`Trainer.fit` stopped: `max_steps=3` reached.\n",
      "`Trainer.fit` stopped: `max_steps=3` reached.\n",
      "`Trainer.fit` stopped: `max_steps=3` reached.\n",
      "`Trainer.fit` stopped: `max_steps=3` reached.\n",
      "`Trainer.fit` stopped: `max_steps=3` reached.\n",
      "Batch size 4 succeeded, trying batch size 8\n",
      "Batch size 4 succeeded, trying batch size 8\n",
      "Batch size 4 succeeded, trying batch size 8\n",
      "Batch size 4 succeeded, trying batch size 8\n",
      "Batch size 4 succeeded, trying batch size 8\n",
      "`Trainer.fit` stopped: `max_steps=3` reached.\n",
      "`Trainer.fit` stopped: `max_steps=3` reached.\n",
      "`Trainer.fit` stopped: `max_steps=3` reached.\n",
      "`Trainer.fit` stopped: `max_steps=3` reached.\n",
      "Batch size 8 succeeded, trying batch size 16\n",
      "`Trainer.fit` stopped: `max_steps=3` reached.\n",
      "Batch size 8 succeeded, trying batch size 16\n",
      "Batch size 8 succeeded, trying batch size 16\n",
      "Batch size 8 succeeded, trying batch size 16\n",
      "Batch size 8 succeeded, trying batch size 16\n",
      "`Trainer.fit` stopped: `max_steps=3` reached.\n",
      "`Trainer.fit` stopped: `max_steps=3` reached.\n",
      "`Trainer.fit` stopped: `max_steps=3` reached.\n",
      "`Trainer.fit` stopped: `max_steps=3` reached.\n",
      "`Trainer.fit` stopped: `max_steps=3` reached.\n",
      "Batch size 16 succeeded, trying batch size 32\n",
      "Batch size 16 succeeded, trying batch size 32\n",
      "Batch size 16 succeeded, trying batch size 32\n",
      "Batch size 16 succeeded, trying batch size 32\n",
      "Batch size 16 succeeded, trying batch size 32\n",
      "`Trainer.fit` stopped: `max_steps=3` reached.\n",
      "Batch size 32 succeeded, trying batch size 64\n",
      "`Trainer.fit` stopped: `max_steps=3` reached.\n",
      "`Trainer.fit` stopped: `max_steps=3` reached.\n",
      "`Trainer.fit` stopped: `max_steps=3` reached.\n",
      "`Trainer.fit` stopped: `max_steps=3` reached.\n",
      "Batch size 32 succeeded, trying batch size 64\n",
      "Batch size 32 succeeded, trying batch size 64\n",
      "Batch size 32 succeeded, trying batch size 64\n",
      "Batch size 32 succeeded, trying batch size 64\n",
      "`Trainer.fit` stopped: `max_steps=3` reached.\n",
      "Batch size 64 succeeded, trying batch size 128\n",
      "`Trainer.fit` stopped: `max_steps=3` reached.\n",
      "Batch size 64 succeeded, trying batch size 128\n",
      "`Trainer.fit` stopped: `max_steps=3` reached.\n",
      "Batch size 64 succeeded, trying batch size 128\n",
      "`Trainer.fit` stopped: `max_steps=3` reached.\n",
      "`Trainer.fit` stopped: `max_steps=3` reached.\n",
      "Batch size 64 succeeded, trying batch size 128\n",
      "Batch size 64 succeeded, trying batch size 128\n",
      "`Trainer.fit` stopped: `max_steps=3` reached.\n",
      "Batch size 128 succeeded, trying batch size 256\n",
      "`Trainer.fit` stopped: `max_steps=3` reached.\n",
      "`Trainer.fit` stopped: `max_steps=3` reached.\n",
      "`Trainer.fit` stopped: `max_steps=3` reached.\n",
      "Batch size 128 succeeded, trying batch size 256\n",
      "`Trainer.fit` stopped: `max_steps=3` reached.\n",
      "Batch size 128 succeeded, trying batch size 256\n",
      "Batch size 128 succeeded, trying batch size 256\n",
      "Batch size 128 succeeded, trying batch size 256\n",
      "`Trainer.fit` stopped: `max_steps=3` reached.\n",
      "`Trainer.fit` stopped: `max_steps=3` reached.\n",
      "`Trainer.fit` stopped: `max_steps=3` reached.\n",
      "`Trainer.fit` stopped: `max_steps=3` reached.\n",
      "`Trainer.fit` stopped: `max_steps=3` reached.\n",
      "Batch size 256 succeeded, trying batch size 512\n",
      "Batch size 256 succeeded, trying batch size 512\n",
      "Batch size 256 succeeded, trying batch size 512\n",
      "Batch size 256 succeeded, trying batch size 512\n",
      "Batch size 256 succeeded, trying batch size 512\n",
      "`Trainer.fit` stopped: `max_steps=3` reached.\n",
      "`Trainer.fit` stopped: `max_steps=3` reached.\n",
      "Batch size 512 succeeded, trying batch size 1024\n",
      "`Trainer.fit` stopped: `max_steps=3` reached.\n",
      "`Trainer.fit` stopped: `max_steps=3` reached.\n",
      "Batch size 512 succeeded, trying batch size 1024\n",
      "Batch size 512 succeeded, trying batch size 1024\n",
      "Batch size 512 succeeded, trying batch size 1024\n",
      "`Trainer.fit` stopped: `max_steps=3` reached.\n",
      "Batch size 512 succeeded, trying batch size 1024\n",
      "`Trainer.fit` stopped: `max_steps=3` reached.\n",
      "`Trainer.fit` stopped: `max_steps=3` reached.\n",
      "`Trainer.fit` stopped: `max_steps=3` reached.\n",
      "`Trainer.fit` stopped: `max_steps=3` reached.\n",
      "Batch size 1024 succeeded, trying batch size 2048\n",
      "`Trainer.fit` stopped: `max_steps=3` reached.\n",
      "Batch size 1024 succeeded, trying batch size 2048\n",
      "Batch size 1024 succeeded, trying batch size 2048\n",
      "Batch size 1024 succeeded, trying batch size 2048\n",
      "Batch size 1024 succeeded, trying batch size 2048\n",
      "`Trainer.fit` stopped: `max_steps=3` reached.\n",
      "`Trainer.fit` stopped: `max_steps=3` reached.\n",
      "Batch size 2048 succeeded, trying batch size 4096\n",
      "Batch size 2048 succeeded, trying batch size 4096\n",
      "`Trainer.fit` stopped: `max_steps=3` reached.\n",
      "Batch size 2048 succeeded, trying batch size 4096\n",
      "`Trainer.fit` stopped: `max_steps=3` reached.\n",
      "`Trainer.fit` stopped: `max_steps=3` reached.\n",
      "Batch size 2048 succeeded, trying batch size 4096\n",
      "Batch size 2048 succeeded, trying batch size 4096\n",
      "`Trainer.fit` stopped: `max_steps=3` reached.\n",
      "Batch size 4096 succeeded, trying batch size 8192\n",
      "`Trainer.fit` stopped: `max_steps=3` reached.\n",
      "`Trainer.fit` stopped: `max_steps=3` reached.\n",
      "`Trainer.fit` stopped: `max_steps=3` reached.\n",
      "`Trainer.fit` stopped: `max_steps=3` reached.\n",
      "Batch size 4096 succeeded, trying batch size 8192\n",
      "Batch size 4096 succeeded, trying batch size 8192\n",
      "Batch size 4096 succeeded, trying batch size 8192\n",
      "Batch size 4096 succeeded, trying batch size 8192\n",
      "`Trainer.fit` stopped: `max_steps=3` reached.\n",
      "Batch size 8192 succeeded, trying batch size 16384\n",
      "`Trainer.fit` stopped: `max_steps=3` reached.\n",
      "`Trainer.fit` stopped: `max_steps=3` reached.\n",
      "`Trainer.fit` stopped: `max_steps=3` reached.\n",
      "Batch size 8192 succeeded, trying batch size 16384\n",
      "`Trainer.fit` stopped: `max_steps=3` reached.\n",
      "Batch size 8192 succeeded, trying batch size 16384\n",
      "Batch size 8192 succeeded, trying batch size 16384\n",
      "Batch size 8192 succeeded, trying batch size 16384\n",
      "`Trainer.fit` stopped: `max_steps=3` reached.\n",
      "Batch size 16384 succeeded, trying batch size 32768\n",
      "`Trainer.fit` stopped: `max_steps=3` reached.\n",
      "Batch size 16384 succeeded, trying batch size 32768\n",
      "`Trainer.fit` stopped: `max_steps=3` reached.\n",
      "`Trainer.fit` stopped: `max_steps=3` reached.\n",
      "`Trainer.fit` stopped: `max_steps=3` reached.\n",
      "Batch size 16384 succeeded, trying batch size 32768\n",
      "Batch size 16384 succeeded, trying batch size 32768\n",
      "Batch size 16384 succeeded, trying batch size 32768\n",
      "`Trainer.fit` stopped: `max_steps=3` reached.\n",
      "`Trainer.fit` stopped: `max_steps=3` reached.\n",
      "The batch size 32768 is greater or equal than the length of your dataset.\n",
      "The batch size 32768 is greater or equal than the length of your dataset.\n",
      "`Trainer.fit` stopped: `max_steps=3` reached.\n",
      "Finished batch size finder, will continue with full run using batch size 32768\n",
      "The batch size 32768 is greater or equal than the length of your dataset.\n",
      "Finished batch size finder, will continue with full run using batch size 32768\n",
      "Finished batch size finder, will continue with full run using batch size 32768\n",
      "`Trainer.fit` stopped: `max_steps=3` reached.\n",
      "The batch size 32768 is greater or equal than the length of your dataset.\n",
      "Finished batch size finder, will continue with full run using batch size 32768\n",
      "`Trainer.fit` stopped: `max_steps=3` reached.\n",
      "The batch size 32768 is greater or equal than the length of your dataset.\n",
      "Finished batch size finder, will continue with full run using batch size 32768\n",
      "Restoring states from the checkpoint path at /home/scoop/experimentation/experiments/iter1/.scale_batch_size_06dd9499-0e03-419b-9750-2c75c6a85992.ckpt\n",
      "Restoring states from the checkpoint path at /home/scoop/experimentation/experiments/iter1/.scale_batch_size_5736a370-0bf0-47a8-a65e-aa98c648a7aa.ckpt\n",
      "Restoring states from the checkpoint path at /home/scoop/experimentation/experiments/iter1/.scale_batch_size_50fd0e6d-1b01-49d9-af5b-57e8c010c4e0.ckpt\n",
      "Restored all states from the checkpoint at /home/scoop/experimentation/experiments/iter1/.scale_batch_size_06dd9499-0e03-419b-9750-2c75c6a85992.ckpt\n",
      "Restoring states from the checkpoint path at /home/scoop/experimentation/experiments/iter1/.scale_batch_size_35d0347b-bf7c-4677-a4b6-c7174b46358f.ckpt\n",
      "Restoring states from the checkpoint path at /home/scoop/experimentation/experiments/iter1/.scale_batch_size_d9f73496-acb7-451a-ad7e-9fdc3131fb33.ckpt\n",
      "Restored all states from the checkpoint at /home/scoop/experimentation/experiments/iter1/.scale_batch_size_5736a370-0bf0-47a8-a65e-aa98c648a7aa.ckpt\n",
      "Restored all states from the checkpoint at /home/scoop/experimentation/experiments/iter1/.scale_batch_size_50fd0e6d-1b01-49d9-af5b-57e8c010c4e0.ckpt\n",
      "Restored all states from the checkpoint at /home/scoop/experimentation/experiments/iter1/.scale_batch_size_35d0347b-bf7c-4677-a4b6-c7174b46358f.ckpt\n",
      "Restored all states from the checkpoint at /home/scoop/experimentation/experiments/iter1/.scale_batch_size_d9f73496-acb7-451a-ad7e-9fdc3131fb33.ckpt\n",
      "LOCAL_RANK: 0 - CUDA_VISIBLE_DEVICES: [0]\n",
      "LOCAL_RANK: 0 - CUDA_VISIBLE_DEVICES: [0]\n",
      "LOCAL_RANK: 0 - CUDA_VISIBLE_DEVICES: [0]\n",
      "LOCAL_RANK: 0 - CUDA_VISIBLE_DEVICES: [0]\n",
      "LOCAL_RANK: 0 - CUDA_VISIBLE_DEVICES: [0]\n",
      "\n",
      "  | Name  | Type | Params | Mode \n",
      "---------------------------------------\n",
      "0 | model | LSTM | 53.3 K | train\n",
      "---------------------------------------\n",
      "53.3 K    Trainable params\n",
      "0         Non-trainable params\n",
      "53.3 K    Total params\n",
      "0.213     Total estimated model params size (MB)\n",
      "4         Modules in train mode\n",
      "0         Modules in eval mode\n",
      "\n",
      "  | Name  | Type | Params | Mode \n",
      "---------------------------------------\n",
      "0 | model | LSTM | 53.3 K | train\n",
      "---------------------------------------\n",
      "53.3 K    Trainable params\n",
      "0         Non-trainable params\n",
      "53.3 K    Total params\n",
      "0.213     Total estimated model params size (MB)\n",
      "4         Modules in train mode\n",
      "0         Modules in eval mode\n",
      "\n",
      "  | Name  | Type | Params | Mode \n",
      "---------------------------------------\n",
      "0 | model | LSTM | 53.3 K | train\n",
      "---------------------------------------\n",
      "53.3 K    Trainable params\n",
      "0         Non-trainable params\n",
      "53.3 K    Total params\n",
      "0.213     Total estimated model params size (MB)\n",
      "4         Modules in train mode\n",
      "0         Modules in eval mode\n",
      "\n",
      "  | Name  | Type | Params | Mode \n",
      "---------------------------------------\n",
      "0 | model | LSTM | 53.3 K | train\n",
      "---------------------------------------\n",
      "53.3 K    Trainable params\n",
      "0         Non-trainable params\n",
      "53.3 K    Total params\n",
      "0.213     Total estimated model params size (MB)\n",
      "4         Modules in train mode\n",
      "0         Modules in eval mode\n",
      "\n",
      "  | Name  | Type | Params | Mode \n",
      "---------------------------------------\n",
      "0 | model | LSTM | 53.3 K | train\n",
      "---------------------------------------\n",
      "53.3 K    Trainable params\n",
      "0         Non-trainable params\n",
      "53.3 K    Total params\n",
      "0.213     Total estimated model params size (MB)\n",
      "4         Modules in train mode\n",
      "0         Modules in eval mode\n"
     ]
    },
    {
     "data": {
      "application/vnd.jupyter.widget-view+json": {
       "model_id": "5ef0860186544169bb21603938d868ec",
       "version_major": 2,
       "version_minor": 0
      },
      "text/plain": [
       "Sanity Checking: |          | 0/? [00:00<?, ?it/s]"
      ]
     },
     "metadata": {},
     "output_type": "display_data"
    },
    {
     "data": {
      "application/vnd.jupyter.widget-view+json": {
       "model_id": "70507bfcf719436caf90f5e9876742ee",
       "version_major": 2,
       "version_minor": 0
      },
      "text/plain": [
       "Sanity Checking: |          | 0/? [00:00<?, ?it/s]"
      ]
     },
     "metadata": {},
     "output_type": "display_data"
    },
    {
     "data": {
      "application/vnd.jupyter.widget-view+json": {
       "model_id": "39b3040de6b2447b90a82943db7f28e0",
       "version_major": 2,
       "version_minor": 0
      },
      "text/plain": [
       "Sanity Checking: |          | 0/? [00:00<?, ?it/s]"
      ]
     },
     "metadata": {},
     "output_type": "display_data"
    },
    {
     "data": {
      "application/vnd.jupyter.widget-view+json": {
       "model_id": "1f2b5bcdf6c04260899a6af6df2530c9",
       "version_major": 2,
       "version_minor": 0
      },
      "text/plain": [
       "Sanity Checking: |          | 0/? [00:00<?, ?it/s]"
      ]
     },
     "metadata": {},
     "output_type": "display_data"
    },
    {
     "data": {
      "application/vnd.jupyter.widget-view+json": {
       "model_id": "b3b494a51bc648fe951b23705258d1c6",
       "version_major": 2,
       "version_minor": 0
      },
      "text/plain": [
       "Sanity Checking: |          | 0/? [00:00<?, ?it/s]"
      ]
     },
     "metadata": {},
     "output_type": "display_data"
    },
    {
     "data": {
      "application/vnd.jupyter.widget-view+json": {
       "model_id": "6882b2ae672c4aad8bf51e4860e71a5d",
       "version_major": 2,
       "version_minor": 0
      },
      "text/plain": [
       "Training: |          | 0/? [00:00<?, ?it/s]"
      ]
     },
     "metadata": {},
     "output_type": "display_data"
    },
    {
     "data": {
      "application/vnd.jupyter.widget-view+json": {
       "model_id": "ffe7c6f395db475fa0f2537b1a181f2a",
       "version_major": 2,
       "version_minor": 0
      },
      "text/plain": [
       "Training: |          | 0/? [00:00<?, ?it/s]"
      ]
     },
     "metadata": {},
     "output_type": "display_data"
    },
    {
     "data": {
      "application/vnd.jupyter.widget-view+json": {
       "model_id": "08be5fc671c64ae48118896bdba5e50f",
       "version_major": 2,
       "version_minor": 0
      },
      "text/plain": [
       "Training: |          | 0/? [00:00<?, ?it/s]"
      ]
     },
     "metadata": {},
     "output_type": "display_data"
    },
    {
     "data": {
      "application/vnd.jupyter.widget-view+json": {
       "model_id": "12f1d3d923d546c186d0e6859fe7566c",
       "version_major": 2,
       "version_minor": 0
      },
      "text/plain": [
       "Training: |          | 0/? [00:00<?, ?it/s]"
      ]
     },
     "metadata": {},
     "output_type": "display_data"
    },
    {
     "data": {
      "application/vnd.jupyter.widget-view+json": {
       "model_id": "e3c97f6af445475f85451842652061d2",
       "version_major": 2,
       "version_minor": 0
      },
      "text/plain": [
       "Training: |          | 0/? [00:00<?, ?it/s]"
      ]
     },
     "metadata": {},
     "output_type": "display_data"
    },
    {
     "data": {
      "application/vnd.jupyter.widget-view+json": {
       "model_id": "45ca48b95a174d60b161a03638d84614",
       "version_major": 2,
       "version_minor": 0
      },
      "text/plain": [
       "Validation: |          | 0/? [00:00<?, ?it/s]"
      ]
     },
     "metadata": {},
     "output_type": "display_data"
    },
    {
     "data": {
      "application/vnd.jupyter.widget-view+json": {
       "model_id": "1a47810b02144845bc81c4b487c7ffff",
       "version_major": 2,
       "version_minor": 0
      },
      "text/plain": [
       "Validation: |          | 0/? [00:00<?, ?it/s]"
      ]
     },
     "metadata": {},
     "output_type": "display_data"
    },
    {
     "data": {
      "application/vnd.jupyter.widget-view+json": {
       "model_id": "5956671227714dbfa5036e4dc3cd5157",
       "version_major": 2,
       "version_minor": 0
      },
      "text/plain": [
       "Validation: |          | 0/? [00:00<?, ?it/s]"
      ]
     },
     "metadata": {},
     "output_type": "display_data"
    },
    {
     "data": {
      "application/vnd.jupyter.widget-view+json": {
       "model_id": "479cf1dc38b1417badad52ff75bc2a07",
       "version_major": 2,
       "version_minor": 0
      },
      "text/plain": [
       "Validation: |          | 0/? [00:00<?, ?it/s]"
      ]
     },
     "metadata": {},
     "output_type": "display_data"
    },
    {
     "data": {
      "application/vnd.jupyter.widget-view+json": {
       "model_id": "5da530ef90d5435b8a93f619accbc755",
       "version_major": 2,
       "version_minor": 0
      },
      "text/plain": [
       "Validation: |          | 0/? [00:00<?, ?it/s]"
      ]
     },
     "metadata": {},
     "output_type": "display_data"
    },
    {
     "data": {
      "application/vnd.jupyter.widget-view+json": {
       "model_id": "e935f489f2494a2893dd13fb24401eb8",
       "version_major": 2,
       "version_minor": 0
      },
      "text/plain": [
       "Validation: |          | 0/? [00:00<?, ?it/s]"
      ]
     },
     "metadata": {},
     "output_type": "display_data"
    },
    {
     "data": {
      "application/vnd.jupyter.widget-view+json": {
       "model_id": "5a214eaeb6cc4bf187f1c1838017e332",
       "version_major": 2,
       "version_minor": 0
      },
      "text/plain": [
       "Validation: |          | 0/? [00:00<?, ?it/s]"
      ]
     },
     "metadata": {},
     "output_type": "display_data"
    },
    {
     "data": {
      "application/vnd.jupyter.widget-view+json": {
       "model_id": "a4478596a1524d70b01c2d4ca33cf64e",
       "version_major": 2,
       "version_minor": 0
      },
      "text/plain": [
       "Validation: |          | 0/? [00:00<?, ?it/s]"
      ]
     },
     "metadata": {},
     "output_type": "display_data"
    },
    {
     "data": {
      "application/vnd.jupyter.widget-view+json": {
       "model_id": "6e9dcbc5528743f19718e90fbfe7c5bd",
       "version_major": 2,
       "version_minor": 0
      },
      "text/plain": [
       "Validation: |          | 0/? [00:00<?, ?it/s]"
      ]
     },
     "metadata": {},
     "output_type": "display_data"
    },
    {
     "data": {
      "application/vnd.jupyter.widget-view+json": {
       "model_id": "e212659ec5404a5abcceb8c2f3f63b1d",
       "version_major": 2,
       "version_minor": 0
      },
      "text/plain": [
       "Validation: |          | 0/? [00:00<?, ?it/s]"
      ]
     },
     "metadata": {},
     "output_type": "display_data"
    },
    {
     "data": {
      "application/vnd.jupyter.widget-view+json": {
       "model_id": "2236a2638e2048e3b14bd7076cd86f93",
       "version_major": 2,
       "version_minor": 0
      },
      "text/plain": [
       "Validation: |          | 0/? [00:00<?, ?it/s]"
      ]
     },
     "metadata": {},
     "output_type": "display_data"
    },
    {
     "data": {
      "application/vnd.jupyter.widget-view+json": {
       "model_id": "253ceec0c33a4e8c81c425f82d9a26e3",
       "version_major": 2,
       "version_minor": 0
      },
      "text/plain": [
       "Validation: |          | 0/? [00:00<?, ?it/s]"
      ]
     },
     "metadata": {},
     "output_type": "display_data"
    },
    {
     "data": {
      "application/vnd.jupyter.widget-view+json": {
       "model_id": "de5214cc17c94f5e96ab61c579a12a68",
       "version_major": 2,
       "version_minor": 0
      },
      "text/plain": [
       "Validation: |          | 0/? [00:00<?, ?it/s]"
      ]
     },
     "metadata": {},
     "output_type": "display_data"
    },
    {
     "data": {
      "application/vnd.jupyter.widget-view+json": {
       "model_id": "dd1eea908bc24db99bb3bc9604ddec47",
       "version_major": 2,
       "version_minor": 0
      },
      "text/plain": [
       "Validation: |          | 0/? [00:00<?, ?it/s]"
      ]
     },
     "metadata": {},
     "output_type": "display_data"
    },
    {
     "data": {
      "application/vnd.jupyter.widget-view+json": {
       "model_id": "9817408384c2459faac8a8a68282fe3d",
       "version_major": 2,
       "version_minor": 0
      },
      "text/plain": [
       "Validation: |          | 0/? [00:00<?, ?it/s]"
      ]
     },
     "metadata": {},
     "output_type": "display_data"
    },
    {
     "data": {
      "application/vnd.jupyter.widget-view+json": {
       "model_id": "d759f89603be497197f4896a5d859fcc",
       "version_major": 2,
       "version_minor": 0
      },
      "text/plain": [
       "Validation: |          | 0/? [00:00<?, ?it/s]"
      ]
     },
     "metadata": {},
     "output_type": "display_data"
    }
   ],
   "source": [
    "assert time_horizon > 0, \"Time horizon must be a positive integer\"\n",
    "    \n",
    "df = pd.read_csv(nist_path)\n",
    "\n",
    "cleaner = TempCleaner(clean_pow_low, clean_in_low, clean_in_high, clean_out_low, clean_out_high, clean_delta_temp)\n",
    "splitter = StdSplitter(train_days, val_days, test_days)\n",
    "    \n",
    "model = LSTM(hidden_size, num_layers, input_size, time_horizon, dropout)\n",
    "trainer = TrainerWrapper(L.Trainer, \n",
    "                         max_epochs=num_epochs, \n",
    "                         callbacks=[EarlyStopping(monitor='val_loss', min_delta=0.0, patience=3, verbose=False, mode='min', strict=True)], \n",
    "                         gradient_clip_val=gradient_clipping)\n",
    "optimizer = OptimizerWrapper(optim.Adam, model, lr=learning_rate)\n",
    "\n",
    "model = DeterministicPipeline.Builder() \\\n",
    "    .add_data(df) \\\n",
    "    .set_cleaner(cleaner) \\\n",
    "    .set_normalizer_class(MinMaxNormalizer) \\\n",
    "    .set_splitter(splitter) \\\n",
    "    .set_sequencer_class(AllTimeSequencer) \\\n",
    "    .set_target_column(TARGET_COLUMN) \\\n",
    "    .set_model(model) \\\n",
    "    .set_optimizer(optimizer) \\\n",
    "    .set_batch_size(batch_size) \\\n",
    "    .set_seq_len(seq_len) \\\n",
    "    .set_worker_num(NUM_WORKERS) \\\n",
    "    .set_error(NRMSE) \\\n",
    "    .set_train_error(RMSE) \\\n",
    "    .set_trainer(trainer) \\\n",
    "    .set_tuner_class(StdTunerWrapper) \\\n",
    "    .build()\n",
    "\n",
    "model = EnsemblePipeline.Builder() \\\n",
    "        .set_pipeline(model) \\\n",
    "        .set_num_ensembles(num_ensembles) \\\n",
    "        .add_test_error(NRMSE) \\\n",
    "        .add_test_error(NMLSCV) \\\n",
    "        .add_test_error(NMCRPS) \\\n",
    "        .set_horizon_len(time_horizon) \\\n",
    "        .build()\n",
    "\n",
    "model.fit()\n",
    "os.mkdir(GRAPH_PATH)\n",
    "ensemple_val_loss_arr = model.get_validation_loss()\n",
    "print(\"VALIDATION LOSS GRAPH\")\n",
    "for loss_arr in ensemple_val_loss_arr:\n",
    "    plot_loss(loss_arr, GRAPH_PATH + \"val\")\n",
    "ensemple_train_loss_arr = model.get_training_loss()\n",
    "print(\"TRAINING LOSS GRAPH\")\n",
    "for loss_arr in ensemple_train_loss_arr:\n",
    "    plot_loss(loss_arr, GRAPH_PATH + \"train\")\n",
    "    \n",
    "model.save(MODEL_PATH)"
   ]
  },
  {
   "cell_type": "code",
   "execution_count": null,
   "id": "c2e4cbd2",
   "metadata": {},
   "outputs": [],
   "source": [
    "\n",
    "from experiments.iter1.util.evaluate import evaluate_model\n",
    "\n",
    "df = pd.read_csv(nist_path)\n",
    "\n",
    "cleaner = TempCleaner(clean_pow_low, clean_in_low, clean_in_high, clean_out_low, clean_out_high, clean_delta_temp)\n",
    "splitter = StdSplitter(train_days, val_days, test_days)\n",
    "    \n",
    "model = LSTM(hidden_size, num_layers, input_size, time_horizon, dropout)\n",
    "trainer = TrainerWrapper(L.Trainer, \n",
    "                         max_epochs=num_epochs, \n",
    "                         callbacks=[EarlyStopping(monitor='val_loss', min_delta=0.0, patience=3, verbose=False, mode='min', strict=True)], \n",
    "                         gradient_clip_val=gradient_clipping)\n",
    "optimizer = OptimizerWrapper(optim.Adam, model, lr=learning_rate)\n",
    "\n",
    "model = DeterministicPipeline.Builder() \\\n",
    "    .add_data(df) \\\n",
    "    .set_cleaner(cleaner) \\\n",
    "    .set_normalizer_class(MinMaxNormalizer) \\\n",
    "    .set_splitter(splitter) \\\n",
    "    .set_sequencer_class(AllTimeSequencer) \\\n",
    "    .set_target_column(TARGET_COLUMN) \\\n",
    "    .set_model(model) \\\n",
    "    .set_optimizer(optimizer) \\\n",
    "    .set_batch_size(batch_size) \\\n",
    "    .set_seq_len(seq_len) \\\n",
    "    .set_worker_num(NUM_WORKERS) \\\n",
    "    .set_error(NRMSE) \\\n",
    "    .set_train_error(RMSE) \\\n",
    "    .set_trainer(trainer) \\\n",
    "    .set_tuner_class(StdTunerWrapper) \\\n",
    "    .build()\n",
    "\n",
    "model = EnsemblePipeline.Builder() \\\n",
    "        .set_pipeline(model) \\\n",
    "        .set_num_ensembles(num_ensembles) \\\n",
    "        .add_test_error(NRMSE) \\\n",
    "        .add_test_error(NMLSCV) \\\n",
    "        .add_test_error(NMCRPS) \\\n",
    "        .set_horizon_len(time_horizon) \\\n",
    "        .build()\n",
    "\n",
    "model.load(MODEL_PATH)\n",
    "model.test()\n",
    "\n",
    "evaluate_model(model, df, splitter, cleaner, TIMESTAMP, POWER, on_limit_w, off_limit_w, consecutive_points, seq_len, time_horizon, TARGET_COLUMN, error, temp_boundary, 0.95)"
   ]
  }
 ],
 "metadata": {
  "kernelspec": {
   "display_name": ".venv",
   "language": "python",
   "name": "python3"
  },
  "language_info": {
   "codemirror_mode": {
    "name": "ipython",
    "version": 3
   },
   "file_extension": ".py",
   "mimetype": "text/x-python",
   "name": "python",
   "nbconvert_exporter": "python",
   "pygments_lexer": "ipython3",
   "version": "3.12.3"
  }
 },
 "nbformat": 4,
 "nbformat_minor": 5
}
