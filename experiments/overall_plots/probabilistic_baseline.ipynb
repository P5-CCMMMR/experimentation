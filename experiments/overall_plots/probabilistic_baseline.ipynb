{
 "cells": [
  {
   "cell_type": "code",
   "execution_count": null,
   "id": "c9249ed6",
   "metadata": {},
   "outputs": [],
   "source": [
    "import sys\n",
    "import os\n",
    "sys.path.insert(0, os.path.abspath('../..'))\n",
    "from experiments.iter1.util.importer import *\n",
    "uk_path = \"../../src/data_preprocess/dataset/UKDATA_cleaned.csv\"\n",
    "nist_path = \"../../src/data_preprocess/dataset/NIST_cleaned.csv\"\n",
    "\n",
    "from experiments.iter1.util.evaluate import evaluate_model, plot_models\n",
    "\n",
    "assert time_horizon > 0, \"Time horizon must be a positive integer\""
   ]
  },
  {
   "cell_type": "markdown",
   "id": "efe436a5",
   "metadata": {},
   "source": [
    "# UK"
   ]
  },
  {
   "cell_type": "code",
   "execution_count": null,
   "id": "5cd6f5d3",
   "metadata": {},
   "outputs": [],
   "source": [
    "df = pd.read_csv(uk_path)\n",
    "\n",
    "cleaner = TempCleaner(clean_pow_low, clean_in_low, clean_in_high, clean_out_low, clean_out_high, clean_delta_temp)\n",
    "splitter = DaySplitter(TIMESTAMP, POWER, train_days, val_days, test_days) \n",
    "\n",
    "uk_model = NaiveProbabilisticBaseline.Builder() \\\n",
    "    .add_data(df) \\\n",
    "    .set_cleaner(cleaner) \\\n",
    "    .set_normalizer_class(MinMaxNormalizer) \\\n",
    "    .set_splitter(splitter) \\\n",
    "    .set_sequencer_class(AllTimeSequencer) \\\n",
    "    .set_target_column(TARGET_COLUMN) \\\n",
    "    .set_power_column(POWER_COLUMN) \\\n",
    "    .set_outdoor_column(OUTDOOR_COLUMN) \\\n",
    "    .set_batch_size(batch_size) \\\n",
    "    .set_horizon_len(time_horizon) \\\n",
    "    .set_worker_num(NUM_WORKERS) \\\n",
    "    .set_seq_len(time_horizon) \\\n",
    "    .set_error(NRMSE) \\\n",
    "    .set_train_error(RMSE) \\\n",
    "    .add_test_error(NMCRPS) \\\n",
    "    .set_penalty_strat(Naive) \\\n",
    "    .add_test_error(CALE) \\\n",
    "    .build()\n",
    "\n",
    "#uk_test_results = uk_model.test()\n",
    "#\n",
    "#uk_model.reset_forward_memory()\n",
    "#\n",
    "#uk_naive_flex_results = evaluate_model(uk_model, df, splitter, cleaner, TIMESTAMP, POWER, on_limit_w, off_limit_w, consecutive_points, time_horizon, time_horizon, TARGET_COLUMN, error, temp_boundary, 0.95)\n",
    "#\n",
    "#uk_naive_results = {**uk_test_results, **uk_naive_flex_results}\n",
    "#uk_naive_results[\"title\"] = \"Naive\""
   ]
  },
  {
   "cell_type": "code",
   "execution_count": null,
   "id": "433fb3ee",
   "metadata": {},
   "outputs": [],
   "source": [
    "best_total_mafe = 1.030161991114778\n",
    "best_confidence = 0.20"
   ]
  },
  {
   "cell_type": "markdown",
   "id": "9df949b1",
   "metadata": {},
   "source": [
    "# UK PLOT"
   ]
  },
  {
   "cell_type": "code",
   "execution_count": null,
   "id": "84f64da1",
   "metadata": {},
   "outputs": [],
   "source": [
    "\n",
    "\n",
    "uk_predictions = uk_model.get_predictions()\n",
    "\n",
    "\n",
    "plot_models(\n",
    "    [uk_predictions],\n",
    "    time_horizon,\n",
    "    uk_model.get_timestamps(),\n",
    "    uk_model.get_actuals(),\n",
    "    titels=[\"UK Dataset\"])"
   ]
  },
  {
   "cell_type": "markdown",
   "id": "0d604667",
   "metadata": {},
   "source": [
    " # NIST"
   ]
  },
  {
   "cell_type": "code",
   "execution_count": null,
   "id": "cf231575",
   "metadata": {},
   "outputs": [],
   "source": [
    "df = pd.read_csv(nist_path)\n",
    "\n",
    "cleaner = TempCleaner(clean_pow_low, clean_in_low, clean_in_high, clean_out_low, clean_out_high, clean_delta_temp)\n",
    "splitter = DaySplitter(TIMESTAMP, POWER, train_days, val_days, test_days)\n",
    "\n",
    "nist_naive_model = NaiveProbabilisticBaseline.Builder() \\\n",
    "    .add_data(df) \\\n",
    "    .set_cleaner(cleaner) \\\n",
    "    .set_normalizer_class(MinMaxNormalizer) \\\n",
    "    .set_splitter(splitter) \\\n",
    "    .set_sequencer_class(AllTimeSequencer) \\\n",
    "    .set_target_column(TARGET_COLUMN) \\\n",
    "    .set_power_column(POWER_COLUMN) \\\n",
    "    .set_outdoor_column(OUTDOOR_COLUMN) \\\n",
    "    .set_horizon_len(time_horizon) \\\n",
    "    .set_worker_num(NUM_WORKERS) \\\n",
    "    .set_seq_len(time_horizon) \\\n",
    "    .set_error(NRMSE) \\\n",
    "    .set_train_error(RMSE) \\\n",
    "    .add_test_error(NMCRPS) \\\n",
    "    .set_penalty_strat(Naive) \\\n",
    "    .add_test_error(CALE) \\\n",
    "    .build()\n",
    "\n",
    "nist_naive_test_results = nist_naive_model.test()\n",
    "\n",
    "nist_naive_model.reset_forward_memory()\n",
    "\n",
    "nist_naive_flex_results = evaluate_model(nist_naive_model, df, splitter, cleaner, TIMESTAMP, POWER, on_limit_w, off_limit_w, consecutive_points, time_horizon, time_horizon, TARGET_COLUMN, error, temp_boundary, 0.95)\n",
    "nist_naive_results = {**nist_naive_test_results, **nist_naive_flex_results}\n",
    "nist_naive_results[\"title\"] = \"Naive\""
   ]
  },
  {
   "cell_type": "markdown",
   "id": "0bccd509",
   "metadata": {},
   "source": [
    "# NIST PLOT"
   ]
  },
  {
   "cell_type": "code",
   "execution_count": null,
   "id": "a3979a1e",
   "metadata": {},
   "outputs": [],
   "source": [
    "nist_predictions = nist_naive_model.get_predictions()\n",
    "\n",
    "\n",
    "plot_models(\n",
    "    [nist_predictions],\n",
    "    time_horizon,\n",
    "    nist_naive_model.get_timestamps(),\n",
    "    nist_naive_model.get_actuals(),\n",
    "    titels=[\"NIST Dataset\"])"
   ]
  }
 ],
 "metadata": {
  "kernelspec": {
   "display_name": ".venv",
   "language": "python",
   "name": "python3"
  },
  "language_info": {
   "codemirror_mode": {
    "name": "ipython",
    "version": 3
   },
   "file_extension": ".py",
   "mimetype": "text/x-python",
   "name": "python",
   "nbconvert_exporter": "python",
   "pygments_lexer": "ipython3",
   "version": "3.10.12"
  }
 },
 "nbformat": 4,
 "nbformat_minor": 5
}
